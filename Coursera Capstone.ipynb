{
    "cells": [
        {
            "metadata": {
                "collapsed": true
            },
            "cell_type": "markdown",
            "source": "This notebook will be used mainly for the Coursera Capstone project"
        },
        {
            "metadata": {},
            "cell_type": "code",
            "source": "import pandas as pd\nimport numpy as np",
            "execution_count": 1,
            "outputs": []
        },
        {
            "metadata": {},
            "cell_type": "code",
            "source": "print(\"Hello Capstone Project Course!\")",
            "execution_count": 2,
            "outputs": [
                {
                    "output_type": "stream",
                    "text": "Hello Capstone Project Course!\n",
                    "name": "stdout"
                }
            ]
        },
        {
            "metadata": {},
            "cell_type": "markdown",
            "source": "# Introduction"
        },
        {
            "metadata": {},
            "cell_type": "markdown",
            "source": "During the Covid-19 pandemic, the gym sector has suffered a big drop in the revenues due to the restrictions put in place by governments to limit infections. \nEven though many fitness enthusiasts created their own home gym to keep on training during the lockdown phase, the gym represents in the heart of many, not only a place where you can train with other people, but also an environment where you can socialise and create meaningful relationships. Those relationships that the pandemic has taught us to be very important. "
        },
        {
            "metadata": {},
            "cell_type": "markdown",
            "source": "# Business Problem"
        },
        {
            "metadata": {},
            "cell_type": "markdown",
            "source": "Having said that the gym sector has been hardly beaten by social restrictions in the last months, it's important to make good strategic decisions not to loose even more money. \nThe purchase/rent of the building where the gym will be located, is definitely the biggest and the most important a gym owner has to make. Therefore, it is fundamental to take in consideration as many factors has possibile in the choice of the location, as from it will depend a large part of the future of the business. \nPumpIt, is an international company that owns gyms in all the major European capitals; their goal for 2021 is target the US market starting from New York City and then expanding in the West Coast. More precisely, they have picked Brooklyn to be the starting point for their expansion project in the US. \nWith a surface of 180 km^2, Brooklyn is the second largest borough in New York City after Queens; scanning such a big area to find the best location for a new gym, is not an easy task. This is why the company has hired as consultants, a team of data scientist to be supported during the decision making process with meaningful insights coming from data. \nWhat consultants have been asked to do, is not only to understand which is the best area in Brooklyn where to open a new gym, but also to check the gym rating nearby the chosen area to understand a little bit more about the competition."
        },
        {
            "metadata": {},
            "cell_type": "markdown",
            "source": "# Data"
        },
        {
            "metadata": {},
            "cell_type": "markdown",
            "source": "The Data that will be used for this analysis are mainly of two types: \n\n1. Data about New York City neighbourhoods and borough with their longitude and latitude to be able to create maps\n\n2. Venues Data retrieved using the Footsquare API to explore and analyse neighbourhoods in New York City, more specifically those located in the Brooklyn borough"
        }
    ],
    "metadata": {
        "kernelspec": {
            "name": "python3",
            "display_name": "Python 3.7",
            "language": "python"
        },
        "language_info": {
            "name": "python",
            "version": "3.7.10",
            "mimetype": "text/x-python",
            "codemirror_mode": {
                "name": "ipython",
                "version": 3
            },
            "pygments_lexer": "ipython3",
            "nbconvert_exporter": "python",
            "file_extension": ".py"
        }
    },
    "nbformat": 4,
    "nbformat_minor": 1
}