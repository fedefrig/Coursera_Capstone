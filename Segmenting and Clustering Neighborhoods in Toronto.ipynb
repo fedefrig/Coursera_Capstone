{
    "cells": [
        {
            "metadata": {
                "collapsed": true
            },
            "cell_type": "markdown",
            "source": "# This is the first part of the week 1 assignment: here I will extract the data of Toronto neighborhoods from wikipedia and clean them"
        },
        {
            "metadata": {},
            "cell_type": "markdown",
            "source": "first, import the libraries"
        },
        {
            "metadata": {},
            "cell_type": "code",
            "source": "import requests\nimport lxml.html as lh\nimport bs4 as bs\nimport urllib.request\nimport numpy as np \nimport pandas as pd",
            "execution_count": 86,
            "outputs": []
        },
        {
            "metadata": {},
            "cell_type": "markdown",
            "source": "Now we have to scrap (download) the data from the internet "
        },
        {
            "metadata": {},
            "cell_type": "code",
            "source": "url = \"https://www.zipcodesonline.com/2020/06/postal-code-of-toronto-in-2020.html\"\ndata = requests.get(url).text\nsoup = BeautifulSoup(data, 'html5lib')",
            "execution_count": 89,
            "outputs": []
        },
        {
            "metadata": {},
            "cell_type": "code",
            "source": "tables = soup.find_all('table')",
            "execution_count": 101,
            "outputs": []
        },
        {
            "metadata": {},
            "cell_type": "code",
            "source": "toronto_data_1 = pd.DataFrame(columns=[\"no\",\"PostalCode\",\"Borough\",\"Neighbourhood\"])\n\nfor row in tables[1].tbody.find_all(\"tr\"):\n    col = row.find_all(\"td\")\n    if (col != []):\n        sl_no = col[0].text\n        neighbourhood = col[1].text\n        postalcode = col[2].text\n        district = col[3].text\n        toronto_data_1 = toronto_data_1.append({\"no\":sl_no, \"PostalCode\":postalcode, \"Borough\":district, \"Neighbourhood\":neighbourhood}, ignore_index=True)",
            "execution_count": 115,
            "outputs": []
        },
        {
            "metadata": {},
            "cell_type": "markdown",
            "source": "Let's check the first 10 rows"
        },
        {
            "metadata": {},
            "cell_type": "code",
            "source": "toronto_data_1.head(10)",
            "execution_count": 116,
            "outputs": [
                {
                    "output_type": "execute_result",
                    "execution_count": 116,
                    "data": {
                        "text/plain": "                 no            PostalCode                   Borough  \\\n0  \\n  \\nSL. NO. \\n  \\n  \\nPOSTAL CODES\\n          \\n  \\nDISTRICT\\n   \n1                                                                     \n2         \\n  \\n1\\n           \\n  \\nM5H\\n  \\n  \\nDowntown Toronto\\n   \n3         \\n  \\n2\\n          \\n  \\nM1V \\n      \\n  \\nScarborough \\n   \n4         \\n  \\n3\\n          \\n  \\nM1S \\n       \\n  \\nScarborough\\n   \n5         \\n  \\n4\\n          \\n  \\nM9V \\n         \\n  \\nEtobicoke\\n   \n6         \\n  \\n5\\n          \\n  \\nM8W \\n         \\n  \\nEtobicoke\\n   \n7         \\n  \\n6\\n           \\n  \\nM3H\\n        \\n  \\nNorth York\\n   \n8         \\n  \\n7\\n           \\n  \\nM5V\\n  \\n  \\nDowntown Toronto\\n   \n9         \\n  \\n8\\n           \\n  \\nM2K\\n        \\n  \\nNorth York\\n   \n\n             Neighbourhood  \n0    \\n  \\nNEIGHBOURHOOD\\n  \n1                           \n2        \\n  \\n\u00a0Adelaide\\n  \n3  \\n  \\nAgincourt North\\n  \n4        \\n  \\nAgincourt\\n  \n5   \\n  \\nAlbion Gardens\\n  \n6        \\n  \\nAlderwood\\n  \n7   \\n  \\nBathurst Manor\\n  \n8   \\n  \\nBathurst Quay \\n  \n9  \\n  \\nBayview Village\\n  ",
                        "text/html": "<div>\n<style scoped>\n    .dataframe tbody tr th:only-of-type {\n        vertical-align: middle;\n    }\n\n    .dataframe tbody tr th {\n        vertical-align: top;\n    }\n\n    .dataframe thead th {\n        text-align: right;\n    }\n</style>\n<table border=\"1\" class=\"dataframe\">\n  <thead>\n    <tr style=\"text-align: right;\">\n      <th></th>\n      <th>no</th>\n      <th>PostalCode</th>\n      <th>Borough</th>\n      <th>Neighbourhood</th>\n    </tr>\n  </thead>\n  <tbody>\n    <tr>\n      <th>0</th>\n      <td>\\n  \\nSL. NO. \\n</td>\n      <td>\\n  \\nPOSTAL CODES\\n</td>\n      <td>\\n  \\nDISTRICT\\n</td>\n      <td>\\n  \\nNEIGHBOURHOOD\\n</td>\n    </tr>\n    <tr>\n      <th>1</th>\n      <td></td>\n      <td></td>\n      <td></td>\n      <td></td>\n    </tr>\n    <tr>\n      <th>2</th>\n      <td>\\n  \\n1\\n</td>\n      <td>\\n  \\nM5H\\n</td>\n      <td>\\n  \\nDowntown Toronto\\n</td>\n      <td>\\n  \\n\u00a0Adelaide\\n</td>\n    </tr>\n    <tr>\n      <th>3</th>\n      <td>\\n  \\n2\\n</td>\n      <td>\\n  \\nM1V \\n</td>\n      <td>\\n  \\nScarborough \\n</td>\n      <td>\\n  \\nAgincourt North\\n</td>\n    </tr>\n    <tr>\n      <th>4</th>\n      <td>\\n  \\n3\\n</td>\n      <td>\\n  \\nM1S \\n</td>\n      <td>\\n  \\nScarborough\\n</td>\n      <td>\\n  \\nAgincourt\\n</td>\n    </tr>\n    <tr>\n      <th>5</th>\n      <td>\\n  \\n4\\n</td>\n      <td>\\n  \\nM9V \\n</td>\n      <td>\\n  \\nEtobicoke\\n</td>\n      <td>\\n  \\nAlbion Gardens\\n</td>\n    </tr>\n    <tr>\n      <th>6</th>\n      <td>\\n  \\n5\\n</td>\n      <td>\\n  \\nM8W \\n</td>\n      <td>\\n  \\nEtobicoke\\n</td>\n      <td>\\n  \\nAlderwood\\n</td>\n    </tr>\n    <tr>\n      <th>7</th>\n      <td>\\n  \\n6\\n</td>\n      <td>\\n  \\nM3H\\n</td>\n      <td>\\n  \\nNorth York\\n</td>\n      <td>\\n  \\nBathurst Manor\\n</td>\n    </tr>\n    <tr>\n      <th>8</th>\n      <td>\\n  \\n7\\n</td>\n      <td>\\n  \\nM5V\\n</td>\n      <td>\\n  \\nDowntown Toronto\\n</td>\n      <td>\\n  \\nBathurst Quay \\n</td>\n    </tr>\n    <tr>\n      <th>9</th>\n      <td>\\n  \\n8\\n</td>\n      <td>\\n  \\nM2K\\n</td>\n      <td>\\n  \\nNorth York\\n</td>\n      <td>\\n  \\nBayview Village\\n</td>\n    </tr>\n  </tbody>\n</table>\n</div>"
                    },
                    "metadata": {}
                }
            ]
        },
        {
            "metadata": {},
            "cell_type": "markdown",
            "source": "Now we have to remove the first and the second row"
        },
        {
            "metadata": {},
            "cell_type": "code",
            "source": "df = toronto_data_1.iloc[2:,:]\ndf.reset_index(drop=True, inplace=True)\ndf.head()",
            "execution_count": 117,
            "outputs": [
                {
                    "output_type": "execute_result",
                    "execution_count": 117,
                    "data": {
                        "text/plain": "          no    PostalCode                   Borough            Neighbourhood\n0  \\n  \\n1\\n   \\n  \\nM5H\\n  \\n  \\nDowntown Toronto\\n        \\n  \\n\u00a0Adelaide\\n\n1  \\n  \\n2\\n  \\n  \\nM1V \\n      \\n  \\nScarborough \\n  \\n  \\nAgincourt North\\n\n2  \\n  \\n3\\n  \\n  \\nM1S \\n       \\n  \\nScarborough\\n        \\n  \\nAgincourt\\n\n3  \\n  \\n4\\n  \\n  \\nM9V \\n         \\n  \\nEtobicoke\\n   \\n  \\nAlbion Gardens\\n\n4  \\n  \\n5\\n  \\n  \\nM8W \\n         \\n  \\nEtobicoke\\n        \\n  \\nAlderwood\\n",
                        "text/html": "<div>\n<style scoped>\n    .dataframe tbody tr th:only-of-type {\n        vertical-align: middle;\n    }\n\n    .dataframe tbody tr th {\n        vertical-align: top;\n    }\n\n    .dataframe thead th {\n        text-align: right;\n    }\n</style>\n<table border=\"1\" class=\"dataframe\">\n  <thead>\n    <tr style=\"text-align: right;\">\n      <th></th>\n      <th>no</th>\n      <th>PostalCode</th>\n      <th>Borough</th>\n      <th>Neighbourhood</th>\n    </tr>\n  </thead>\n  <tbody>\n    <tr>\n      <th>0</th>\n      <td>\\n  \\n1\\n</td>\n      <td>\\n  \\nM5H\\n</td>\n      <td>\\n  \\nDowntown Toronto\\n</td>\n      <td>\\n  \\n\u00a0Adelaide\\n</td>\n    </tr>\n    <tr>\n      <th>1</th>\n      <td>\\n  \\n2\\n</td>\n      <td>\\n  \\nM1V \\n</td>\n      <td>\\n  \\nScarborough \\n</td>\n      <td>\\n  \\nAgincourt North\\n</td>\n    </tr>\n    <tr>\n      <th>2</th>\n      <td>\\n  \\n3\\n</td>\n      <td>\\n  \\nM1S \\n</td>\n      <td>\\n  \\nScarborough\\n</td>\n      <td>\\n  \\nAgincourt\\n</td>\n    </tr>\n    <tr>\n      <th>3</th>\n      <td>\\n  \\n4\\n</td>\n      <td>\\n  \\nM9V \\n</td>\n      <td>\\n  \\nEtobicoke\\n</td>\n      <td>\\n  \\nAlbion Gardens\\n</td>\n    </tr>\n    <tr>\n      <th>4</th>\n      <td>\\n  \\n5\\n</td>\n      <td>\\n  \\nM8W \\n</td>\n      <td>\\n  \\nEtobicoke\\n</td>\n      <td>\\n  \\nAlderwood\\n</td>\n    </tr>\n  </tbody>\n</table>\n</div>"
                    },
                    "metadata": {}
                }
            ]
        },
        {
            "metadata": {},
            "cell_type": "markdown",
            "source": "Now we have to eliminate \"\\n\" disturbing characthers"
        },
        {
            "metadata": {},
            "cell_type": "code",
            "source": "df = df.replace(('\\n'),'', regex=True)\ndf",
            "execution_count": 118,
            "outputs": [
                {
                    "output_type": "execute_result",
                    "execution_count": 118,
                    "data": {
                        "text/plain": "        no PostalCode             Borough         Neighbourhood\n0        1        M5H    Downtown Toronto             \u00a0Adelaide\n1        2       M1V         Scarborough        Agincourt North\n2        3       M1S          Scarborough             Agincourt\n3        4       M9V            Etobicoke        Albion Gardens\n4        5       M8W            Etobicoke             Alderwood\n..     ...        ...                 ...                   ...\n200    201        M4B           East York    Woodbine Gardens, \n201    202        M4C           East York      Woodbine Heights\n202    203       M2P           North York      York Mills West \n203    204        M2L          North York            York Mills\n204    205       M5R      Central Toronto             Yorkville\n\n[205 rows x 4 columns]",
                        "text/html": "<div>\n<style scoped>\n    .dataframe tbody tr th:only-of-type {\n        vertical-align: middle;\n    }\n\n    .dataframe tbody tr th {\n        vertical-align: top;\n    }\n\n    .dataframe thead th {\n        text-align: right;\n    }\n</style>\n<table border=\"1\" class=\"dataframe\">\n  <thead>\n    <tr style=\"text-align: right;\">\n      <th></th>\n      <th>no</th>\n      <th>PostalCode</th>\n      <th>Borough</th>\n      <th>Neighbourhood</th>\n    </tr>\n  </thead>\n  <tbody>\n    <tr>\n      <th>0</th>\n      <td>1</td>\n      <td>M5H</td>\n      <td>Downtown Toronto</td>\n      <td>Adelaide</td>\n    </tr>\n    <tr>\n      <th>1</th>\n      <td>2</td>\n      <td>M1V</td>\n      <td>Scarborough</td>\n      <td>Agincourt North</td>\n    </tr>\n    <tr>\n      <th>2</th>\n      <td>3</td>\n      <td>M1S</td>\n      <td>Scarborough</td>\n      <td>Agincourt</td>\n    </tr>\n    <tr>\n      <th>3</th>\n      <td>4</td>\n      <td>M9V</td>\n      <td>Etobicoke</td>\n      <td>Albion Gardens</td>\n    </tr>\n    <tr>\n      <th>4</th>\n      <td>5</td>\n      <td>M8W</td>\n      <td>Etobicoke</td>\n      <td>Alderwood</td>\n    </tr>\n    <tr>\n      <th>...</th>\n      <td>...</td>\n      <td>...</td>\n      <td>...</td>\n      <td>...</td>\n    </tr>\n    <tr>\n      <th>200</th>\n      <td>201</td>\n      <td>M4B</td>\n      <td>East York</td>\n      <td>Woodbine Gardens,</td>\n    </tr>\n    <tr>\n      <th>201</th>\n      <td>202</td>\n      <td>M4C</td>\n      <td>East York</td>\n      <td>Woodbine Heights</td>\n    </tr>\n    <tr>\n      <th>202</th>\n      <td>203</td>\n      <td>M2P</td>\n      <td>North York</td>\n      <td>York Mills West</td>\n    </tr>\n    <tr>\n      <th>203</th>\n      <td>204</td>\n      <td>M2L</td>\n      <td>North York</td>\n      <td>York Mills</td>\n    </tr>\n    <tr>\n      <th>204</th>\n      <td>205</td>\n      <td>M5R</td>\n      <td>Central Toronto</td>\n      <td>Yorkville</td>\n    </tr>\n  </tbody>\n</table>\n<p>205 rows \u00d7 4 columns</p>\n</div>"
                    },
                    "metadata": {}
                }
            ]
        },
        {
            "metadata": {},
            "cell_type": "markdown",
            "source": "Then, eliminate the column \"no\""
        },
        {
            "metadata": {},
            "cell_type": "code",
            "source": "df.drop(columns=['no'],inplace=True)\ndf.head()",
            "execution_count": 119,
            "outputs": [
                {
                    "output_type": "execute_result",
                    "execution_count": 119,
                    "data": {
                        "text/plain": "  PostalCode             Borough      Neighbourhood\n0        M5H    Downtown Toronto          \u00a0Adelaide\n1       M1V         Scarborough     Agincourt North\n2       M1S          Scarborough          Agincourt\n3       M9V            Etobicoke     Albion Gardens\n4       M8W            Etobicoke          Alderwood",
                        "text/html": "<div>\n<style scoped>\n    .dataframe tbody tr th:only-of-type {\n        vertical-align: middle;\n    }\n\n    .dataframe tbody tr th {\n        vertical-align: top;\n    }\n\n    .dataframe thead th {\n        text-align: right;\n    }\n</style>\n<table border=\"1\" class=\"dataframe\">\n  <thead>\n    <tr style=\"text-align: right;\">\n      <th></th>\n      <th>PostalCode</th>\n      <th>Borough</th>\n      <th>Neighbourhood</th>\n    </tr>\n  </thead>\n  <tbody>\n    <tr>\n      <th>0</th>\n      <td>M5H</td>\n      <td>Downtown Toronto</td>\n      <td>Adelaide</td>\n    </tr>\n    <tr>\n      <th>1</th>\n      <td>M1V</td>\n      <td>Scarborough</td>\n      <td>Agincourt North</td>\n    </tr>\n    <tr>\n      <th>2</th>\n      <td>M1S</td>\n      <td>Scarborough</td>\n      <td>Agincourt</td>\n    </tr>\n    <tr>\n      <th>3</th>\n      <td>M9V</td>\n      <td>Etobicoke</td>\n      <td>Albion Gardens</td>\n    </tr>\n    <tr>\n      <th>4</th>\n      <td>M8W</td>\n      <td>Etobicoke</td>\n      <td>Alderwood</td>\n    </tr>\n  </tbody>\n</table>\n</div>"
                    },
                    "metadata": {}
                }
            ]
        },
        {
            "metadata": {},
            "cell_type": "code",
            "source": "",
            "execution_count": null,
            "outputs": []
        }
    ],
    "metadata": {
        "kernelspec": {
            "name": "python3",
            "display_name": "Python 3.7",
            "language": "python"
        },
        "language_info": {
            "name": "python",
            "version": "3.7.10",
            "mimetype": "text/x-python",
            "codemirror_mode": {
                "name": "ipython",
                "version": 3
            },
            "pygments_lexer": "ipython3",
            "nbconvert_exporter": "python",
            "file_extension": ".py"
        }
    },
    "nbformat": 4,
    "nbformat_minor": 1
}